{
 "cells": [
  {
   "cell_type": "markdown",
   "metadata": {},
   "source": [
    "I. Petrov, A. Buzmakov, L. Samoylova, 09.12.2019, European XFEL\n",
    "\n",
    "This notebook simulates transmission of a Gaussian pulse through 2- or 4- bouynce monochromator\n",
    "For 2-bounce mono, misalignment of the second crystal relative to the first can be defined"
   ]
  },
  {
   "cell_type": "code",
   "execution_count": null,
   "metadata": {},
   "outputs": [],
   "source": [
    "from __future__ import print_function #Python 2.7 compatibility\n",
    "from __future__ import absolute_import\n",
    "\n",
    "from __future__ import division\n",
    "from __future__ import unicode_literals\n",
    "\n",
    "import sys\n",
    "sys.path.insert(0, '../..')\n",
    "\n",
    "import numpy as np\n",
    "import pylab as plt\n",
    "import os\n",
    "import matplotlib\n",
    "import glob\n",
    "\n",
    "#to get data from x-server\n",
    "import urllib\n",
    "import requests\n",
    "import re\n",
    "\n",
    "from wpg.srwlib import srwl\n",
    "from wpg.srwlib import *\n",
    "from wpg import Beamline, optical_elements\n",
    "from wpg.optical_elements import Drift, Use_PP\n",
    "from wpg.wavefront import Wavefront\n",
    "from wpg.generators import build_gauss_wavefront\n",
    "\n",
    "from wpg.useful_code.wfrutils import show_slices_hsv\n",
    "from wpg.wpg_uti_exfl import calculate_theta_fwhm_cdr_s1\n",
    "from wpg.wpg_uti_wf import calculate_fwhm, show_profile, time_en_int, integral_intensity"
   ]
  },
  {
   "cell_type": "code",
   "execution_count": null,
   "metadata": {},
   "outputs": [],
   "source": [
    "#define pulse parameters; beam divergence by default 2 urad\n",
    "ph_en_kev = 9\n",
    "coherence_time_fs = 0.2\n",
    "beamsize_um = 500"
   ]
  },
  {
   "cell_type": "code",
   "execution_count": null,
   "metadata": {},
   "outputs": [],
   "source": [
    "#crystal parameters\n",
    "manual_input=0\n",
    "element='Silicon' #as in Crystal field here https://x-server.gmca.aps.anl.gov/cgi/www_form.exe?template=x0h_form.htm\n",
    "hkl = [1,1,1]\n",
    "\n",
    "#if manual input, please define three parameters manually. Below are data for Si(111) and photon energy 12.4keV\n",
    "chi0= -0.63308E-05+1j*0.63367E-07\n",
    "chih= -0.33393E-05+1j*0.44192E-07 \n",
    "dSp = 3.1355\n",
    "\n",
    "thickness = 5e-3 #in meters"
   ]
  },
  {
   "cell_type": "code",
   "execution_count": null,
   "metadata": {},
   "outputs": [],
   "source": [
    "def gauss_wfr_def(w=beamsize_um*1e-6,tau_c=coherence_time_fs,ph_en=ph_en_kev):\n",
    "    beam_ph_en = ph_en #Gaussian beam mean photon energy\n",
    "    pulseInt = 1e-3 #pulse intensity\n",
    "    coh_time = tau_c*1e-15  #coherence time, s\n",
    "    theta_fwhm =2.0e-6  #angular divergence, rad\n",
    "    num_points = 400  #number of points in in transverse direction\n",
    "    nslices = 100     #number of points in time\n",
    "    sig_num = 5.5     #number of sigmas in transverse direction\n",
    "\n",
    "    wlambda = 12.4*1e-10/beam_ph_en\n",
    "    omega0 = 2*np.pi*3*1e8/wlambda\n",
    "    w0 = wlambda/(np.pi*theta_fwhm) \n",
    "    w0_a = w0/(2*np.sqrt(np.log(2)))\n",
    "    zR = (np.pi*w0_a**2)/wlambda \n",
    "    src_oe1 = zR*np.sqrt((w/w0)**2-1)    #distance from source, m\n",
    "    range_xy = w0_a * np.sqrt(1+(src_oe1/zR)**2)/np.sqrt(2)*sig_num\n",
    "    \n",
    "\n",
    "    wfr = build_gauss_wavefront(num_points, num_points, nslices, \\\n",
    "    beam_ph_en,-range_xy/2,range_xy/2, -range_xy/2, range_xy/2,\n",
    "    coh_time/np.sqrt(2), w0_a, w0_a, src_oe1, pulseEn=pulseInt, pulseRange=20.)\n",
    "    \n",
    "    return wfr"
   ]
  },
  {
   "cell_type": "code",
   "execution_count": null,
   "metadata": {},
   "outputs": [],
   "source": [
    "def xtal(element='Silicon',hkl=[1,1,1],asymAngle=0.0,thickness=0.1e-3,orient_ph_en=12.4,\\\n",
    "         case='Bragg',isDiffr=1,vertDiffr=1,\\\n",
    "         manual=0,chi0=0+0*1j,chih=0+0*1j,d=0,faceUpDown=0,ang_dev=0):\n",
    "    \"\"\"\n",
    "    :param faceUpDown: 0 - face up, 1 - face down\n",
    "    \"\"\"\n",
    "    if case == 'Bragg':\n",
    "        if isDiffr == 1:\n",
    "            uc = 1\n",
    "        else:\n",
    "            uc = 2\n",
    "    elif case == 'Laue':\n",
    "        if isDiffr == 0:\n",
    "            uc = 3\n",
    "        else:\n",
    "            uc = 4\n",
    "    if manual:\n",
    "        dSp = d\n",
    "        psi0r = np.real(chi0)\n",
    "        psi0i =  np.imag(chi0)\n",
    "        psihr = np.real(chih)\n",
    "        psihbi = np.imag(chih)\n",
    "        psihbr = psihr; psihbi = psihi \n",
    "    else:\n",
    "        data1 = {\n",
    "            'code': element,'xway': '2','wave': str(orient_ph_en),'line': '','coway': '0','amor': '','chem': '',\\\n",
    "            'rho': '','i1': str(hkl[0]),'i2': str(hkl[1]),'i3': str(hkl[2]),'df1df2': '-1','modeout': '1','detail': '0'}\n",
    "        response1 = requests.get('https://x-server.gmca.aps.anl.gov/cgi/x0h_form.exe', params = data1)\n",
    "        r1 = str(re.findall(r'\\sd=\\s*[.\\d]*',response1.text)[0])\n",
    "        r2 = str(re.findall(r'\\sxr0=-*[.\\d]*E*-*[.\\d]*',response1.text)[0])\n",
    "        r3 = str(re.findall(r'\\sxi0=-*\\s*[.\\d]*E*-*[.\\d]*',response1.text)[0])\n",
    "        r4 = str(re.findall(r'\\sxrhsg=-*\\s*[.\\d]*E*-*[.\\d]*',response1.text)[0])\n",
    "        r5 = str(re.findall(r'\\sxihsg=-*\\s*[.\\d]*E*-*[.\\d]*',response1.text)[0])\n",
    "        dSp = float(r1[len(' d= ')+1:])\n",
    "        psi0r = float(r2[len(' d= ')+1:])\n",
    "        psi0i = float(r3[len(' d= ')+1:])\n",
    "        psihr = -float(r4[len(' d= ')+3:])\n",
    "        psihi = float(r5[len(' d= ')+3:])\n",
    "    thickCryst = thickness\n",
    "    angAsCryst = asymAngle\n",
    "    \n",
    "    opCr1 = SRWLOptCryst(_d_sp=dSp, _psi0r=psi0r,_psi0i=psi0i,\\\n",
    "    _psi_hr=psihr, _psi_hi=psihi,_psi_hbr=psihr, _psi_hbi=psihi,\\\n",
    "                         _tc=thickCryst, _ang_as=angAsCryst)\n",
    "    \n",
    "    opCr1.find_orient_and_rotate_faceUpDown(en_kev=orient_ph_en,UpDown=faceUpDown,_ang_dev=ang_dev)\n",
    "    \n",
    "    return opCr1"
   ]
  },
  {
   "cell_type": "code",
   "execution_count": null,
   "metadata": {},
   "outputs": [],
   "source": [
    "def mono_Bragg_2bounce_element(element_mono='Silicon',hkl_mono=[1,1,1],thickness_mono=0.1e-3,\\\n",
    "                               orient_ph_en_mono=12.4,case_mono='Bragg',misalign=0):\n",
    "    opCr1 = xtal(element=element_mono,hkl=hkl_mono,thickness=thickness_mono,orient_ph_en=orient_ph_en_mono,faceUpDown=0)\n",
    "    opCr2 = xtal(element=element_mono,hkl=hkl_mono,thickness=thickness_mono,\\\n",
    "                 orient_ph_en=orient_ph_en_mono,faceUpDown=1,ang_dev=misalign)\n",
    "    prPar1 =    [0, 0, 1.0, 0, 0, 1.0,  1.0,    1.0,    1.0, 0, 0, 0]\n",
    "    \n",
    "    return SRWLOptC([opCr1,opCr2], [prPar1,prPar1])"
   ]
  },
  {
   "cell_type": "code",
   "execution_count": null,
   "metadata": {},
   "outputs": [],
   "source": [
    "def mono_Bragg_4bounce_element(element_mono='Silicon',hkl_mono=[1,1,1],thickness_mono=0.1e-3,\\\n",
    "                               orient_ph_en_mono=12.4,case_mono='Bragg'):\n",
    "    opCr1 = xtal(element=element_mono,hkl=hkl_mono,thickness=thickness_mono,orient_ph_en=orient_ph_en_mono,faceUpDown=0)\n",
    "    opCr2 = xtal(element=element_mono,hkl=hkl_mono,thickness=thickness_mono,orient_ph_en=orient_ph_en_mono,faceUpDown=1)\n",
    "    opCr3 = xtal(element=element_mono,hkl=hkl_mono,thickness=thickness_mono,orient_ph_en=orient_ph_en_mono,faceUpDown=1)\n",
    "    opCr4 = xtal(element=element_mono,hkl=hkl_mono,thickness=thickness_mono,orient_ph_en=orient_ph_en_mono,faceUpDown=0)\n",
    "    prPar1 =    [0, 0, 1.0, 0, 0, 1.0,  1.0,    1.0,    1.0, 0, 0, 0]\n",
    "    \n",
    "    return SRWLOptC([opCr1,opCr2,opCr3,opCr4], [prPar1,prPar1,prPar1,prPar1])"
   ]
  },
  {
   "cell_type": "markdown",
   "metadata": {},
   "source": [
    "scattering geometry is vertical, first crystal is at the exact Bragg condition for the incident photon energy, the second crystal is misaligned from the exact Bragg condition"
   ]
  },
  {
   "cell_type": "code",
   "execution_count": null,
   "metadata": {},
   "outputs": [],
   "source": [
    "mono_misalign = 20e-6 #misalignment of crystals in 2-bounce mono, urad\n",
    "optBL_2Mono = mono_Bragg_2bounce_element(element_mono=element,hkl_mono=hkl,\\\n",
    "                                         thickness_mono=thickness,orient_ph_en_mono=ph_en_kev,\\\n",
    "                                         misalign=mono_misalign)"
   ]
  },
  {
   "cell_type": "code",
   "execution_count": null,
   "metadata": {},
   "outputs": [],
   "source": [
    "#define initial wavefront\n",
    "wf = Wavefront(gauss_wfr_def(w=beamsize_um,ph_en=ph_en_kev,tau_c=coherence_time_fs))\n",
    "srwl.ResizeElecField(wf._srwl_wf, 't', [0.0,10.0,0.1])\n",
    "srwl.SetRepresElecField(wf._srwl_wf, 'f')"
   ]
  },
  {
   "cell_type": "code",
   "execution_count": null,
   "metadata": {},
   "outputs": [],
   "source": [
    "integral_intensity(wf)"
   ]
  },
  {
   "cell_type": "code",
   "execution_count": null,
   "metadata": {},
   "outputs": [],
   "source": [
    "#propagate through monochromator\n",
    "srwl.PropagElecField(wf._srwl_wf,optBL_2Mono)"
   ]
  },
  {
   "cell_type": "code",
   "execution_count": null,
   "metadata": {},
   "outputs": [],
   "source": [
    "# srwl.ResizeElecField(wf._srwl_wf, 't', [0.0,1.0,3.0])\n",
    "integral_intensity(wf)"
   ]
  }
 ],
 "metadata": {
  "kernelspec": {
   "display_name": "Python [conda env:wpg3]",
   "language": "python",
   "name": "conda-env-wpg3-py"
  },
  "language_info": {
   "codemirror_mode": {
    "name": "ipython",
    "version": 3
   },
   "file_extension": ".py",
   "mimetype": "text/x-python",
   "name": "python",
   "nbconvert_exporter": "python",
   "pygments_lexer": "ipython3",
   "version": "3.5.0"
  }
 },
 "nbformat": 4,
 "nbformat_minor": 1
}
