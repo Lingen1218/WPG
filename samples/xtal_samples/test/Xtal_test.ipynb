{
 "cells": [
  {
   "cell_type": "code",
   "execution_count": null,
   "metadata": {},
   "outputs": [],
   "source": [
    "#test notebook for development of Xtal implementation in SRW\n",
    "#in the end, the spectra are shown, which indicate the correctness of the calculations\n",
    "#by I. Petrov, L. Samoylova\n",
    "#X-ray Optics, European XFEL\n",
    "\n",
    "\n",
    "from __future__ import print_function #Python 2.7 compatibility\n",
    "from __future__ import absolute_import\n",
    "from __future__ import division\n",
    "from __future__ import unicode_literals\n",
    "\n",
    "import sys\n",
    "sys.path.insert(0, '../../..')\n",
    "\n",
    "import numpy as np\n",
    "import pylab as plt\n",
    "import os\n",
    "import matplotlib\n",
    "import glob\n",
    "\n",
    "from wpg.srwlib import srwl\n",
    "from wpg.srwlib import *\n",
    "from wpg import Beamline, optical_elements\n",
    "from wpg.optical_elements import Drift, Use_PP\n",
    "from wpg.wavefront import Wavefront\n",
    "from wpg.generators import build_gauss_wavefront\n",
    "\n",
    "from wpg.useful_code.wfrutils import show_slices_hsv\n",
    "from wpg.wpg_uti_exfl import calculate_theta_fwhm_cdr_s1\n",
    "from wpg.wpg_uti_wf import calculate_fwhm, show_profile, time_en_int, plot_t_wf, integral_intensity"
   ]
  },
  {
   "cell_type": "code",
   "execution_count": null,
   "metadata": {
    "scrolled": false
   },
   "outputs": [],
   "source": [
    "#define crystal parameters, can be found here http://x-server.gmca.aps.anl.gov/\n",
    "beam_ph_en = 8\n",
    "Laue = 1 #When Laue == 1 is Laue geometry if Laue == 0 Bragg geometry\n",
    "Transmission = 0 # Transmission == 0 for diffraction, Transmision == 1 for Transmitted\n",
    "\n",
    "if Laue == 0:\n",
    "    if Transmission == 0:\n",
    "        uc = 1\n",
    "    else:\n",
    "        uc = 2\n",
    "elif Laue == 1:\n",
    "    if Transmission == 0:\n",
    "        uc = 3\n",
    "    else:\n",
    "        uc = 4\n",
    "\n",
    "print('CASE:',uc, '  (1- BraggR, 2- BraggF, 3- LaueR, 4- LaueT)')\n",
    "\n",
    "#Si111\n",
    "dSp = 3.1355 #lattice spacing Angstrom\n",
    "\n",
    "\n",
    "#susceptibilities, vary with photon energy, for your crystal,\n",
    "#specify values for 12.4 keV (that are before division)\n",
    "\n",
    "psi0r = -0.63324e-05/(1+(beam_ph_en-12.4)/12.4)**2 \n",
    "psi0i =  0.63400e-07/(1+(beam_ph_en-12.4)/12.4)**2\n",
    "psihr = -0.33401e-05/(1+(beam_ph_en-12.4)/12.4)**2\n",
    "psihi =  0.44215e-07/(1+(beam_ph_en-12.4)/12.4)**2\n",
    "psihbr = psihr; psihbi = psihi \n",
    "\n",
    "\n",
    "#thickness\n",
    "thickCryst = 0.1e-03 \n",
    "\n",
    "#asymmetry angle, 0 for Bragg, np.pi/2 for Laue\n",
    "angAsCryst = 0"
   ]
  },
  {
   "cell_type": "code",
   "execution_count": null,
   "metadata": {},
   "outputs": [],
   "source": [
    "#1 crystals in (n) orientation\n",
    "opCr1 = SRWLOptCryst(_d_sp=dSp, _psi0r=psi0r,_psi0i=psi0i, \\\n",
    "_psi_hr=psihr, _psi_hi=psihi,_psi_hbr=psihbr, _psi_hbi=psihbi,\\\n",
    "                     _tc=thickCryst, _ang_as=angAsCryst,_uc =uc)\n",
    "\n",
    "BraggAngle1 = opCr1.Bragg_angle(en_kev=beam_ph_en)\n",
    "\n",
    "opCr1.find_orient_and_rotate_faceUpDown(en_kev=beam_ph_en,UpDown=0)\n",
    "\n",
    "prPar1 =    [0, 0, 1.0, 0, 0, 1.0,  1.0,    1.0,    1.0, 0, 0, 0]\n",
    "#??\n",
    "optBLCryst2 = SRWLOptC([opCr1], [prPar1])\n",
    "\n",
    "print(opCr1.nvx,opCr1.nvy,opCr1.nvz)\n",
    "print(opCr1.tvx,opCr1.tvy)\n",
    "print(1/tan(BraggAngle1))"
   ]
  },
  {
   "cell_type": "code",
   "execution_count": null,
   "metadata": {},
   "outputs": [],
   "source": [
    "print('nvx,nvy,nvz',opCr1.nvx,opCr1.nvy,opCr1.nvz)\n",
    "print('tvx,tvy',opCr1.tvx,opCr1.tvy)"
   ]
  },
  {
   "cell_type": "code",
   "execution_count": null,
   "metadata": {},
   "outputs": [],
   "source": [
    "#Gaussian beam parameters, this can be used for demonstration of rocking curve width\n",
    "\n",
    "beam_ph_en = 8      #Gaussian beam mean photon energy\n",
    "pulseInt = 1e-3        #pulse intensity\n",
    "coh_time = 0.05e-15     #coherence time, s\n",
    "theta_fwhm = 2.0e-6    #2.0e-6  #angular divergence, rad\n",
    "num_points = 200       #400 #number of points in in transverse direction\n",
    "nslices = 100          #100 #number of points in time\n",
    "sig_num = 5.5         #5.5          #number of sigmas in transverse direction\n",
    "src_oe1 = 840.8        #distance from source, m\n",
    "\n",
    "wlambda = 12.4*1e-10/beam_ph_en #Wavelenght\n",
    "omega0 = 2*np.pi*3*1e8/wlambda  #Width of the Gaussian?\n",
    "w0 = wlambda/(np.pi*theta_fwhm)\n",
    "w0_a = w0/(2*np.sqrt(np.log(2)))\n",
    "pulseRange = 20.0 # 20.\n",
    "\n",
    "zR = (np.pi*w0_a**2)/wlambda \n",
    "range_xy = w0_a * np.sqrt(1+(src_oe1/zR)**2)/np.sqrt(2)*sig_num\n",
    "\n",
    "#Build gaussian wavefront\n",
    "wfr = build_gauss_wavefront(num_points, num_points, nslices, \\\n",
    "beam_ph_en,-range_xy/2,range_xy/2, -range_xy/2, range_xy/2,\n",
    "coh_time/np.sqrt(2), w0_a, w0_a, src_oe1, pulseEn=pulseInt, pulseRange = pulseRange)\n",
    "\n",
    "wf = Wavefront(wfr)"
   ]
  },
  {
   "cell_type": "code",
   "execution_count": null,
   "metadata": {
    "scrolled": false
   },
   "outputs": [],
   "source": [
    "#show beam profile and calculate beamsize in m\n",
    "show_profile(wf)"
   ]
  },
  {
   "cell_type": "code",
   "execution_count": null,
   "metadata": {},
   "outputs": [],
   "source": [
    "#plot time plots of total power and in the center of beam\n",
    "integral_intensity(wf)"
   ]
  },
  {
   "cell_type": "code",
   "execution_count": null,
   "metadata": {},
   "outputs": [],
   "source": [
    "#switch to frequency representation, \n",
    "srwl.ResizeElecField(wf._srwl_wf, 't', [0.0,10.0,0.1])\n",
    "srwl.SetRepresElecField(wf._srwl_wf, 'f')\n",
    "srwl.ResizeElecField(wf._srwl_wf, 't', [0.0,0.3,3.0])"
   ]
  },
  {
   "cell_type": "code",
   "execution_count": null,
   "metadata": {},
   "outputs": [],
   "source": [
    "#plot energy plots of total power and in the center of beam\n",
    "integral_intensity(wf)\n",
    "srwl.PropagElecField(wf._srwl_wf,optBLCryst2)"
   ]
  },
  {
   "cell_type": "code",
   "execution_count": null,
   "metadata": {},
   "outputs": [],
   "source": [
    "integral_intensity(wf)"
   ]
  },
  {
   "cell_type": "code",
   "execution_count": null,
   "metadata": {},
   "outputs": [],
   "source": [
    "srwl.SetRepresElecField(wf._srwl_wf, 't')"
   ]
  },
  {
   "cell_type": "code",
   "execution_count": null,
   "metadata": {},
   "outputs": [],
   "source": [
    "integral_intensity(wf)"
   ]
  },
  {
   "cell_type": "code",
   "execution_count": null,
   "metadata": {},
   "outputs": [],
   "source": []
  }
 ],
 "metadata": {
  "kernelspec": {
   "display_name": "Python [conda env:wpg3]",
   "language": "python",
   "name": "conda-env-wpg3-py"
  },
  "language_info": {
   "codemirror_mode": {
    "name": "ipython",
    "version": 3
   },
   "file_extension": ".py",
   "mimetype": "text/x-python",
   "name": "python",
   "nbconvert_exporter": "python",
   "pygments_lexer": "ipython3",
   "version": "3.5.0"
  }
 },
 "nbformat": 4,
 "nbformat_minor": 1
}
